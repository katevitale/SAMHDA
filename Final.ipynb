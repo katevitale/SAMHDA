{
 "cells": [
  {
   "cell_type": "markdown",
   "metadata": {},
   "source": [
    "# Substance Abuse Treatment Center Admissions/Discharges Visualization\n",
    "\n",
    "This program imports the Treatment Episode Data Set: Discharges (TEDS-D) from the Substance Abuse and Mental Health Data Archive (SAMHDA): a collection of data about admissions to and discharges from American substance abuse treatment centers documetented in 2014 (the last year on record). The script then makes graphs to visualize various treatment measures collected. \n",
    "\n",
    "Not all treatment episodes were documented: only admissions/discharges to state-licensed or certified treatment centers are included, and some states only report publicly-funded treatment. \n",
    "\n",
    "In addition, data entries represent treatment episodes rather than individuals, which may therefore be represented more than once for different episodes, and there is no tracking of individuals within the data set.\n",
    "\n",
    "For more information, see https://datafiles.samhsa.gov/study-series/treatment-episode-data-set-discharges-teds-d-nid13520.\n",
    "\n",
    "In addition, the github repository containing this code includes a PDF \"codebook\" that is useful for interpreting the .csv file and data labels. \n",
    "\n",
    "NOTE: .csv file is 234.3 MB."
   ]
  },
  {
   "cell_type": "code",
   "execution_count": null,
   "metadata": {},
   "outputs": [],
   "source": [
    "# import necessary libraries\n",
    "\n",
    "import pandas as pd\n",
    "import matplotlib.pyplot as plt\n",
    "import numpy as np\n",
    "import sqlite3\n",
    "\n",
    "from io import BytesIO\n",
    "from zipfile import ZipFile\n",
    "from urllib.request import urlopen"
   ]
  },
  {
   "cell_type": "code",
   "execution_count": null,
   "metadata": {},
   "outputs": [],
   "source": [
    "# import the data from the SAMHDA website and save it as a pandas dataframe\n",
    "\n",
    "url = 'https://samhda.s3-us-gov-west-1.amazonaws.com/s3fs-public/field-uploads-protected/studies/TEDS-D-2014/TEDS-D-2014-datasets/TEDS-D-2014-DS0001/TEDS-D-2014-DS0001-bundles-with-study-info/TEDS-D-2014-DS0001-bndl-data-tsv.zip'\n",
    "\n",
    "resp = urlopen(url)\n",
    "zipfile = ZipFile(BytesIO(resp.read())) # unzip the folder downloaded from SAMHDA\n",
    "TEDSD = pd.read_csv(zipfile.open('TEDS-D-2014-DS0001-data/TEDS-D-2014-DS0001-data-excel.csv'))\n",
    "    "
   ]
  },
  {
   "cell_type": "code",
   "execution_count": null,
   "metadata": {},
   "outputs": [],
   "source": [
    "# store the data into a SQL database\n",
    "\n",
    "connection = sqlite3.connect(\"SAMHDAvisualization.sqlite\")  \n",
    "cur = connection.cursor()  \n",
    "\n",
    "cur.execute(\"DROP TABLE IF EXISTS TEDSD\");\n",
    "TEDSD.to_sql(name=\"TEDSD\", con=connection) "
   ]
  },
  {
   "cell_type": "code",
   "execution_count": null,
   "metadata": {},
   "outputs": [],
   "source": [
    "# delete the TEDSD dataframe to free up memory\n",
    "\n",
    "del(TEDSD)"
   ]
  },
  {
   "cell_type": "markdown",
   "metadata": {},
   "source": [
    "The first graph will show how many episodes were documented in each US state/territory, grouped by general region.\n",
    "\n",
    "##"
   ]
  },
  {
   "cell_type": "code",
   "execution_count": null,
   "metadata": {},
   "outputs": [],
   "source": [
    "# create a dictionary for the numerical coding of states (obtained from the TEDS-D codebook)\n",
    "\n",
    "State_dict = {1:\"Alabama\",2:\"Alaska\", 4:\"Arizona\", 5:\"Arkansas\", 6:\"California\", 8:\"Colorado\", 9:\"Connecticut\",\n",
    "             10:\"Delaware\", 11: \"District of Columbia\", 12: \"Florida\", 15:\"Hawaii\", 16:\"Idaho\", 17:\"Illinois\",\n",
    "             18:\"Indiana\", 19:\"Iowa\", 21:\"Kentucky\", 22:\"Louisiana\", 23:\"Maine\", 24:\"Maryland\", 25:\"Massachusetts\",\n",
    "             26: \"Michigan\", 27:\"Minnesota\", 28:\"Mississippi\", 29:\"Missouri\", 30:\"Montana\", 31:\"Nebraska\", \n",
    "             32:\"Nevada\", 33:\"New Hampshire\", 34:\"New Jersey\", 35:\"New Mexico\", 36:\"New York\", 37:\"North Carolina\",\n",
    "             38:\"North Dakota\", 39:\"Ohio\", 40:\"Oklahoma\", 41: \"Oregon\", 42: \"Pennsylvania\", 44:\"Rhode Island\", \n",
    "             45: \"South Carolina\", 46:\"South Dakota\", 47:\"Tennessee\", 48:\"Texas\", 49:\"Utah\", 50:\"Vermont\", \n",
    "             51:\"Virginia\", 53:\"Washington\", 54:\"West Virginia\", 55:\"Wisconsin\", 56: \"Wyoming\", 72:\"Puerto Rico\"}"
   ]
  },
  {
   "cell_type": "code",
   "execution_count": null,
   "metadata": {},
   "outputs": [],
   "source": [
    "# fetch the data from sql database\n",
    "\n",
    "cur.execute(\"SELECT REGION,STFIPS,COUNT(CASEID) from TEDSD group by REGION,STFIPS\");\n",
    "state_table_with_codes = cur.fetchall()"
   ]
  },
  {
   "cell_type": "code",
   "execution_count": null,
   "metadata": {},
   "outputs": [],
   "source": [
    "# make region-to-color code dictionary\n",
    "\n",
    "region_color = {0:'black', 1:'blue', 2:'red', 3:'green', 4:'cyan'}"
   ]
  },
  {
   "cell_type": "code",
   "execution_count": null,
   "metadata": {},
   "outputs": [],
   "source": [
    "# make the plot with different colors for different country regions\n",
    "\n",
    "colors = []\n",
    "states = []\n",
    "episodes = []\n",
    "\n",
    "for entry in state_table_with_codes:\n",
    "    colors.append(region_color[entry[0]])\n",
    "    states.append(State_dict[entry[1]])\n",
    "    episodes.append(entry[2])\n",
    "\n",
    "plt.figure(figsize=(20,10))\n",
    "plt.bar(states, episodes, color=colors)\n",
    "plt.xticks(rotation=90, fontsize = 16);\n",
    "plt.yticks(fontsize=16)\n",
    "plt.title(\"2014 Substance Abuse Treatment Center Admissions in USA\", fontsize = 32);\n",
    "plt.xlabel(\"US state/territory\", fontsize = 20)\n",
    "plt.ylabel(\"Total admissions/year\", fontsize = 20);\n",
    "plt.ylim(0,350000)\n",
    "plt.text(1.5, 300000, \"Northeast\", color='blue',fontsize=20);\n",
    "plt.text(12, 300000, \"Midwest\", color='red', fontsize=20);\n",
    "plt.text(25, 300000, \"South\", color='green', fontsize=20);\n",
    "plt.text(39, 300000, \"West\", color='cyan', fontsize=20);\n",
    "plt.show()"
   ]
  },
  {
   "cell_type": "markdown",
   "metadata": {},
   "source": [
    "The figure that is produced should look like this:\n",
    "\n",
    "\n",
    "Notice that some states have many more admissions than others. This could be because of the difference in population size between states, as well as other factors such as reporting differences or accessibility of publicly-funded treatment centers. \n",
    "\n",
    "To look at this futher, we'll normalize the data by dividing by state population, and obtain the \"per capita admissions\" of each state. \n",
    "\n",
    "## What is the \"per capita admissions\" to treatment centers in each state?"
   ]
  },
  {
   "cell_type": "code",
   "execution_count": null,
   "metadata": {},
   "outputs": [],
   "source": [
    "# retrieve US census state population estimates in 2014 as CSV data from my github repository\n",
    "# then store the data as a pandas data frame \n",
    "\n",
    "url = 'https://github.com/katevitale/SAMHDA/archive/master.zip'\n",
    "resp = urlopen(url)\n",
    "zipfile = ZipFile(BytesIO(resp.read())) \n",
    "STATEPOPS = pd.read_csv(zipfile.open('SAMHDA-master/STATE POPULATIONS.csv'))"
   ]
  },
  {
   "cell_type": "code",
   "execution_count": null,
   "metadata": {},
   "outputs": [],
   "source": [
    "# store the state population data in our SAMHDAvisualilzation database\n",
    "\n",
    "cur.execute(\"DROP TABLE IF EXISTS STATEPOPS\");# removes any pre-existing STATEPOPS tables\n",
    "STATEPOPS.to_sql(name=\"STATEPOPS\", con=connection) ;"
   ]
  },
  {
   "cell_type": "code",
   "execution_count": null,
   "metadata": {},
   "outputs": [],
   "source": [
    "# fetch the state population data from the sql data and store it in a dictionary\n",
    "\n",
    "cur.execute(\"SELECT STATE, POPULATION from STATEPOPS\");\n",
    "STATEPOPSlist = cur.fetchall()\n",
    "\n",
    "STATEPOPSdict=dict()\n",
    "for (state, pop) in STATEPOPSlist:\n",
    "    STATEPOPSdict[state]=pop"
   ]
  },
  {
   "cell_type": "code",
   "execution_count": null,
   "metadata": {},
   "outputs": [],
   "source": [
    "# plot the data with similar code as above\n",
    "\n",
    "colors = []\n",
    "states = []\n",
    "per_capita_episodes = []\n",
    "\n",
    "for entry in state_table_with_codes: \n",
    "    colors.append(region_color[entry[0]])\n",
    "    states.append(State_dict[entry[1]])\n",
    "    per_capita_episodes.append(entry[2]/STATEPOPSdict[State_dict[entry[1]]])\n",
    "\n",
    "plt.figure(figsize=(20,10))\n",
    "plt.bar(states, per_capita_episodes, color=colors)\n",
    "plt.xticks(rotation=90, fontsize = 16);\n",
    "plt.yticks(fontsize=16)\n",
    "plt.title(\"2014 Per-Capita Substance Abuse Treatment Center Admissions in USA\", fontsize =30);\n",
    "plt.xlabel(\"US state/territory\", fontsize = 20)\n",
    "plt.ylabel(\"Admissions/person/year\", fontsize = 20);\n",
    "plt.ylim(0,0.025)\n",
    "plt.text(1.5, 0.02, \"Northeast\", color='blue',fontsize=20);\n",
    "plt.text(12, 0.02, \"Midwest\", color='red', fontsize=20);\n",
    "plt.text(25, 0.02, \"South\", color='green', fontsize=20);\n",
    "plt.text(39, 0.02, \"West\", color='cyan', fontsize=20);\n",
    "plt.show()"
   ]
  },
  {
   "cell_type": "markdown",
   "metadata": {},
   "source": [
    "Treatment center admissions now appear to be somewhat more equally distributed across the states and territories, however there are still inequalities that may reflect reporting or access differences.\n",
    "\n",
    "## What is the average wait time for receiving substance abuse treatment?"
   ]
  },
  {
   "cell_type": "code",
   "execution_count": null,
   "metadata": {},
   "outputs": [],
   "source": [
    "# Fetch the counts of each length of wait time\n",
    "\n",
    "cur.execute('SELECT DAYWAIT, COUNT(CASEID) from TEDSD group by DAYWAIT');\n",
    "daywait_list = cur.fetchall();"
   ]
  },
  {
   "cell_type": "code",
   "execution_count": null,
   "metadata": {},
   "outputs": [],
   "source": [
    "# make lists of waits and counts for plotting purposes\n",
    "\n",
    "waits = []\n",
    "counts = []\n",
    "\n",
    "for item in daywait_list[1:len(daywait_list)]:\n",
    "    waits.append(item[0])\n",
    "    counts.append(item[1])"
   ]
  },
  {
   "cell_type": "code",
   "execution_count": null,
   "metadata": {},
   "outputs": [],
   "source": [
    "# make a cumulative density plot of admission wait times  \n",
    "\n",
    "plt.figure(figsize=(10,10))\n",
    "\n",
    "cdf = np.cumsum (counts)\n",
    "plt.plot(waits, cdf/cdf[-1]);\n",
    "plt.xlim(0,100) # show only the first 100 days\n",
    "plt.title(\"US Substance Abuse Treatment Center Admission Wait Times in 2014\", fontsize=32);\n",
    "plt.xlabel(\"Wait time (days)\", fontsize=20)\n",
    "plt.ylabel(\"Cumulative frequency\", fontsize=20);\n",
    "plt.xticks(fontsize=16);\n",
    "plt.yticks(fontsize=16);"
   ]
  },
  {
   "cell_type": "markdown",
   "metadata": {},
   "source": [
    "This data suggests that 65% of the times that people sought treatment for substance abuse, they were able to be admitted the same day. Within approximately a week, only 15% of individuals were still waiting for treatment. However, this last 15% of people took a long time to be admitted. This data is actually truncated, and there were wait times as long as several years recorded. Therefore, not all treatment-seeking people are able to obtain treatment in a timely manner.\n",
    "\n",
    "## How many previous admissions to a treatment center did patients have when they were admitted?"
   ]
  },
  {
   "cell_type": "code",
   "execution_count": null,
   "metadata": {},
   "outputs": [],
   "source": [
    "# the counts of each number of prior admissions\n",
    "\n",
    "cur.execute('SELECT NOPRIOR, COUNT(CASEID) from TEDSD group by NOPRIOR');\n",
    "prior_list = cur.fetchall();"
   ]
  },
  {
   "cell_type": "code",
   "execution_count": null,
   "metadata": {},
   "outputs": [],
   "source": [
    "# make lists of number of prior admissions and counts\n",
    "\n",
    "priors = []\n",
    "counts = []\n",
    "\n",
    "for item in prior_list[1:len(prior_list)]:\n",
    "    priors.append(str(item[0]))\n",
    "    counts.append(item[1])\n",
    "    \n",
    "priors[len(priors)-1] = '5 or more'"
   ]
  },
  {
   "cell_type": "code",
   "execution_count": null,
   "metadata": {},
   "outputs": [],
   "source": [
    "# make a bar plot showing the distribution of each number of previous admissions\n",
    "\n",
    "plt.figure(figsize=(10,10))\n",
    "plt.bar(priors, counts);\n",
    "\n",
    "plt.title(\"Number of Prior Admissions Documented at Intake to US Substance Abuse Treatment Centers in 2014\", fontsize=20);\n",
    "plt.xlabel(\"Number of prior admissions\", fontsize=20)\n",
    "plt.ylabel(\"Count\", fontsize=20);\n",
    "plt.xticks(fontsize=16);\n",
    "plt.yticks(fontsize=16);"
   ]
  },
  {
   "cell_type": "markdown",
   "metadata": {},
   "source": [
    "About a third of admissions to treatment centers were for first-time treatment-seekers, but the rest had some prior history of admission to a treatment center. More than 10% of patients had 5 or more previous admissions to a treatment center. "
   ]
  },
  {
   "cell_type": "markdown",
   "metadata": {},
   "source": [
    "## Why are patients discharged?"
   ]
  },
  {
   "cell_type": "code",
   "execution_count": null,
   "metadata": {
    "scrolled": false
   },
   "outputs": [],
   "source": [
    "cur.execute('SELECT REASON, COUNT(CASEID) from TEDSD group by REASON');\n",
    "reason_list = cur.fetchall();\n",
    "\n",
    "counts = []\n",
    "\n",
    "for item in reason_list:\n",
    "    counts.append(item[1])\n",
    "\n",
    "reason_name_list = [\"Treatment completed\",\n",
    "                    \"Left against professional advice\",\n",
    "                    \"Terminated by facility\",\n",
    "                    \"Transferred to another treatment center or facility\",\n",
    "                    \"Incarcerated\",\n",
    "                    \"Death\",\n",
    "                    \"Other\"]\n",
    "\n",
    "\n",
    "plt.figure(figsize=(10,10))\n",
    "plt.pie(counts, labels=reason_name_list);\n",
    "\n",
    "plt.title(\"Reasons for Discharge from US Substance Abuse Treatment Centers in 2014\", fontsize=20);"
   ]
  },
  {
   "cell_type": "markdown",
   "metadata": {},
   "source": [
    "## What is the distribution of lengths of stay in a treatment center?"
   ]
  },
  {
   "cell_type": "code",
   "execution_count": null,
   "metadata": {},
   "outputs": [],
   "source": [
    "# make a graph of length of stay\n",
    "cur.execute('SELECT LOS, COUNT(CASEID) from TEDSD group by LOS');\n",
    "los_list = cur.fetchall();\n",
    "\n",
    "lengths = []\n",
    "counts = []\n",
    "sum_counts = 0\n",
    "\n",
    "for item in los_list[1:len(los_list)]:\n",
    "    lengths.append(str(item[0]))\n",
    "    counts.append(item[1])\n",
    "    sum_counts += int(item[1])\n",
    "\n",
    "# replace last length labels with ranges\n",
    "last_bins = ['31-45', '46-60', '61-90', '91-120', '121-180', '181-365', '>365']\n",
    "\n",
    "lengths[30:len(lengths)] = last_bins\n",
    "  \n",
    "norm_counts = []    \n",
    "for count in counts:\n",
    "    norm_counts.append(count/sum_counts)\n",
    "plt.figure(figsize=(20,10))\n",
    "plt.bar(lengths, counts)  \n",
    "plt.title(\"Length of stay at US Substance Abuse Treatment Centers in 2014\", fontsize=32);\n",
    "plt.xlabel(\"Length of stay (days)\", fontsize=20)\n",
    "plt.ylabel(\"Count\", fontsize=20);\n",
    "plt.xticks(fontsize=16, rotation=90);\n",
    "plt.yticks(fontsize=16);"
   ]
  },
  {
   "cell_type": "markdown",
   "metadata": {},
   "source": [
    "## What are the reasons for discharge at each length of stay?"
   ]
  },
  {
   "cell_type": "code",
   "execution_count": null,
   "metadata": {},
   "outputs": [],
   "source": [
    "# make a stacked bar graph with the reasons for leaving\n",
    "\n",
    "df = pd.read_sql(\"\"\"SELECT LOS, \n",
    "                 sum((REASON=1)*1) AS \"Treatment completed\", \n",
    "                 sum((REASON=2)*1) AS \"Left against professional advice\", \n",
    "                 sum((REASON=3)*1) AS \"Terminated by facility\",\n",
    "                 sum((REASON=4)*1) AS \"Transferred to another treatment center or facility\",\n",
    "                 sum((REASON=5)*1) AS \"Incarcerated\",\n",
    "                 sum((REASON=6)*1) AS \"Death\",\n",
    "                 sum((REASON=7)*1) AS \"Other\"\n",
    "\n",
    "                from TEDSD group by LOS\"\"\", con=connection)\n",
    "\n",
    "df = df.drop([0], axis=0)\n",
    "df = df.drop('LOS', axis=1)\n",
    "\n",
    "df = df.rename(index=dict(zip(np.arange(1,len(lengths)+1),lengths)))\n",
    "\n",
    "df.plot.bar(stacked=\"True\", figsize=(20,10));\n",
    "\n",
    "plt.xticks(fontsize=16);\n",
    "plt.yticks(fontsize=16)\n",
    "plt.title(\"Substance Abuse Treatment Center Discharges in 2014\", fontsize=32);\n",
    "plt.ylabel(\"Count\", fontsize=20);\n",
    "plt.xlabel(\"Length of stay (days)\", fontsize=20)\n",
    "plt.legend(title=\"Reason for discharge\");"
   ]
  }
 ],
 "metadata": {
  "kernelspec": {
   "display_name": "Python 3",
   "language": "python",
   "name": "python3"
  },
  "language_info": {
   "codemirror_mode": {
    "name": "ipython",
    "version": 3
   },
   "file_extension": ".py",
   "mimetype": "text/x-python",
   "name": "python",
   "nbconvert_exporter": "python",
   "pygments_lexer": "ipython3",
   "version": "3.7.0"
  }
 },
 "nbformat": 4,
 "nbformat_minor": 2
}
