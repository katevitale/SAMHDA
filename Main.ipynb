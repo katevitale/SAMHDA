{
 "cells": [
  {
   "cell_type": "code",
   "execution_count": 113,
   "metadata": {},
   "outputs": [],
   "source": [
    "import pandas as pd\n",
    "import matplotlib.pyplot as plt\n",
    "import sqlite3"
   ]
  },
  {
   "cell_type": "code",
   "execution_count": 89,
   "metadata": {},
   "outputs": [],
   "source": [
    "# retrieve the CSV data from my computer and create a pandas data frame\n",
    "TEDSA = pd.read_csv('''/Users/Kate/Desktop/Python for Everybody Specialization/Course 5 - Capstone/Weeks 3, 5, 7 - Side project/TEDSA_2015_PUF.csv''')"
   ]
  },
  {
   "cell_type": "code",
   "execution_count": 90,
   "metadata": {},
   "outputs": [],
   "source": [
    "# input the data into a SQL database\n",
    "connection = sqlite3.connect(\"SIDEPROJECT.sqlite\")  \n",
    "cur = connection.cursor()  "
   ]
  },
  {
   "cell_type": "code",
   "execution_count": 91,
   "metadata": {},
   "outputs": [],
   "source": [
    "TEDSA.to_sql(name=\"TEDSA\", con=connection) #, if_exists=\"append\", index=False) "
   ]
  },
  {
   "cell_type": "code",
   "execution_count": 92,
   "metadata": {},
   "outputs": [],
   "source": [
    "# now we have a sql database, we can delete the TEDSA dataframe to free up memory\n",
    "del(TEDSA)"
   ]
  },
  {
   "cell_type": "code",
   "execution_count": 109,
   "metadata": {},
   "outputs": [],
   "source": [
    "# create dictionaries for the numerical coding of data from SAMHDA data source\n",
    "State_dict = {1:\"Alabama\",2:\"Alaska\", 4:\"Arizona\", 5:\"Arkensas\", 6:\"California\", 8:\"Colorado\", 9:\"Connecticut\",\n",
    "             10:\"Delaware\", 11: \"District of Columbia\", 12: \"Florida\", 15:\"Hawaii\", 16:\"Idaho\", 17:\"Illinois\",\n",
    "             18:\"Indiana\", 19:\"Iowa\", 21:\"Kentucky\", 22:\"Louisiana\", 23:\"Maine\", 24:\"Maryland\", 25:\"Massachusetts\",\n",
    "             26: \"Michigan\", 27:\"Minnesota\", 28:\"Mississippi\", 29:\"Missouri\", 30:\"Montana\", 31:\"Nebraska\", \n",
    "             32:\"Nevada\", 33:\"New Hampshire\", 34:\"New Jersey\", 35:\"New Mexico\", 36:\"New York\", 37:\"North Carolina\",\n",
    "             38:\"North Dakota\", 39:\"Ohio\", 40:\"Oklahoma\", 44:\"Rhode Island\", 46:\"South Dakota\", 47:\"Tennessee\",\n",
    "             48:\"Texas\", 49:\"Utah\", 50:\"Vermont\", 51:\"Virginia\", 53:\"Washington\", 54:\"West Virginia\", 55:\"Wisconsin\",\n",
    "             56: \"Wyoming\", 72:\"Puerto Rico\"}"
   ]
  },
  {
   "cell_type": "code",
   "execution_count": 102,
   "metadata": {},
   "outputs": [
    {
     "data": {
      "text/plain": [
       "<sqlite3.Cursor at 0x130aeb730>"
      ]
     },
     "execution_count": 102,
     "metadata": {},
     "output_type": "execute_result"
    }
   ],
   "source": [
    "cur.execute(\"SELECT REGION,STFIPS,COUNT(CASEID) from TEDSA group by REGION,STFIPS\")"
   ]
  },
  {
   "cell_type": "code",
   "execution_count": 103,
   "metadata": {},
   "outputs": [],
   "source": [
    "state_table_with_codes = cur.fetchall()"
   ]
  },
  {
   "cell_type": "code",
   "execution_count": 116,
   "metadata": {},
   "outputs": [],
   "source": [
    "# make region-to-color code dictionary\n",
    "\n",
    "region_color = {0:'black', 1:'blue', 2:'red', 3:'green', 4:'cyan'}"
   ]
  },
  {
   "cell_type": "code",
   "execution_count": 118,
   "metadata": {},
   "outputs": [
    {
     "data": {
      "text/plain": [
       "([0,\n",
       "  1,\n",
       "  2,\n",
       "  3,\n",
       "  4,\n",
       "  5,\n",
       "  6,\n",
       "  7,\n",
       "  8,\n",
       "  9,\n",
       "  10,\n",
       "  11,\n",
       "  12,\n",
       "  13,\n",
       "  14,\n",
       "  15,\n",
       "  16,\n",
       "  17,\n",
       "  18,\n",
       "  19,\n",
       "  20,\n",
       "  21,\n",
       "  22,\n",
       "  23,\n",
       "  24,\n",
       "  25,\n",
       "  26,\n",
       "  27,\n",
       "  28,\n",
       "  29,\n",
       "  30,\n",
       "  31,\n",
       "  32,\n",
       "  33,\n",
       "  34,\n",
       "  35,\n",
       "  36,\n",
       "  37,\n",
       "  38,\n",
       "  39,\n",
       "  40,\n",
       "  41,\n",
       "  42,\n",
       "  43,\n",
       "  44,\n",
       "  45,\n",
       "  46],\n",
       " <a list of 47 Text xticklabel objects>)"
      ]
     },
     "execution_count": 118,
     "metadata": {},
     "output_type": "execute_result"
    },
    {
     "data": {
      "image/png": "[encoded data removed]",
      "text/plain": [
       "<Figure size 432x288 with 1 Axes>"
      ]
     },
     "metadata": {
      "needs_background": "light"
     },
     "output_type": "display_data"
    }
   ],
   "source": [
    "colors = list()\n",
    "states = list()\n",
    "episodes = list()\n",
    "for entry in state_table_with_codes:\n",
    "    colors.append(region_color[entry[0]])\n",
    "    states.append(State_dict[entry[1]])\n",
    "    episodes.append(entry[2])\n",
    "    \n",
    "%matplotlib inline\n",
    "\n",
    "plt.bar(states, episodes, color=colors)\n",
    "\n",
    "plt.xticks(rotation=90)"
   ]
  },
  {
   "cell_type": "code",
   "execution_count": 105,
   "metadata": {},
   "outputs": [
    {
     "data": {
      "text/plain": [
       "[(0, 72, 2343),\n",
       " (1, 9, 67706),\n",
       " (1, 23, 12046),\n",
       " (1, 25, 91164),\n",
       " (1, 33, 3580),\n",
       " (1, 34, 68628),\n",
       " (1, 36, 281335),\n",
       " (1, 44, 11152),\n",
       " (1, 50, 10318),\n",
       " (2, 17, 20587),\n",
       " (2, 18, 21362),\n",
       " (2, 19, 28578),\n",
       " (2, 26, 55180),\n",
       " (2, 27, 55346),\n",
       " (2, 29, 36131),\n",
       " (2, 31, 16463),\n",
       " (2, 38, 2900),\n",
       " (2, 39, 39046),\n",
       " (2, 46, 12056),\n",
       " (2, 55, 16296),\n",
       " (3, 1, 11074),\n",
       " (3, 5, 11753),\n",
       " (3, 10, 7900),\n",
       " (3, 11, 6053),\n",
       " (3, 12, 30104),\n",
       " (3, 21, 19001),\n",
       " (3, 22, 10515),\n",
       " (3, 24, 107509),\n",
       " (3, 28, 4823),\n",
       " (3, 37, 39917),\n",
       " (3, 40, 14430),\n",
       " (3, 47, 14916),\n",
       " (3, 48, 37370),\n",
       " (3, 51, 22910),\n",
       " (3, 54, 3029),\n",
       " (4, 2, 6496),\n",
       " (4, 4, 20865),\n",
       " (4, 6, 150071),\n",
       " (4, 8, 87689),\n",
       " (4, 15, 6371),\n",
       " (4, 16, 2684),\n",
       " (4, 30, 5908),\n",
       " (4, 32, 6630),\n",
       " (4, 35, 4445),\n",
       " (4, 49, 11939),\n",
       " (4, 53, 34843),\n",
       " (4, 56, 5563)]"
      ]
     },
     "execution_count": 105,
     "metadata": {},
     "output_type": "execute_result"
    }
   ],
   "source": [
    "state_table_with_codes"
   ]
  },
  {
   "cell_type": "code",
   "execution_count": null,
   "metadata": {},
   "outputs": [],
   "source": []
  }
 ],
 "metadata": {
  "kernelspec": {
   "display_name": "Python 3",
   "language": "python",
   "name": "python3"
  },
  "language_info": {
   "codemirror_mode": {
    "name": "ipython",
    "version": 3
   },
   "file_extension": ".py",
   "mimetype": "text/x-python",
   "name": "python",
   "nbconvert_exporter": "python",
   "pygments_lexer": "ipython3",
   "version": "3.7.0"
  }
 },
 "nbformat": 4,
 "nbformat_minor": 2
}
