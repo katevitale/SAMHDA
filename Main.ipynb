{
 "cells": [
  {
   "cell_type": "code",
   "execution_count": 87,
   "metadata": {},
   "outputs": [],
   "source": [
    "import pandas as pd\n",
    "import sqlite3"
   ]
  },
  {
   "cell_type": "code",
   "execution_count": 89,
   "metadata": {},
   "outputs": [],
   "source": [
    "# retrieve the CSV data from my computer and create a pandas data frame\n",
    "TEDSA = pd.read_csv('''/Users/Kate/Desktop/Python for Everybody Specialization/Course 5 - Capstone/Weeks 3, 5, 7 - Side project/TEDSA_2015_PUF.csv''')"
   ]
  },
  {
   "cell_type": "code",
   "execution_count": 90,
   "metadata": {},
   "outputs": [],
   "source": [
    "# input the data into a SQL database\n",
    "connection = sqlite3.connect(\"SIDEPROJECT.sqlite\")  \n",
    "cur = connection.cursor()  "
   ]
  },
  {
   "cell_type": "code",
   "execution_count": 91,
   "metadata": {},
   "outputs": [],
   "source": [
    "TEDSA.to_sql(name=\"TEDSA\", con=connection) #, if_exists=\"append\", index=False) "
   ]
  },
  {
   "cell_type": "code",
   "execution_count": 92,
   "metadata": {},
   "outputs": [],
   "source": [
    "# now we have a sql database, we can delete the TEDSA dataframe to free up memory\n",
    "del(TEDSA)"
   ]
  },
  {
   "cell_type": "code",
   "execution_count": 93,
   "metadata": {},
   "outputs": [],
   "source": [
    "# create dictionaries for the numerical coding of data from SAMHDA data source\n",
    "State_dict = {1:\"Alabama\",2:\"Alaska\", 4:\"Arizona\", 5:\"Arkensas\", 6:\"California\", 8:\"Colorado\", 9:\"Connecticut\",\n",
    "             10:\"Delaware\", 11: \"District of Columbia\", 12: \"Florida\", 15:\"Hawaii\", 16:\"Idaho\", 17:\"Illinois\",\n",
    "             18:\"Indiana\", 19:\"Iowa\", 21:\"Kentucky\", 22:\"Louisiana\", 23:\"Maine\", 24:\"Maryland\", 25:\"Massachusetts\",\n",
    "             26: \"Michigan\", 27:\"Minnesota\", 28:\"Mississippi\", 29:\"Missouri\", 30:\"Montana\", 31:\"Nebraska\", \n",
    "             32:\"Nevada\", 33:\"New Hampshire\", 34:\"New Jersey\", 35:\"New Mexico\", 36:\"New York\", 37:\"North Carolina\",\n",
    "             38:\"North Dakota\", 39:\"Ohio\", 40:\"Oklahoma\", 44:\"Rhode Island\", 46:\"South Dakota\", 47:\"Tennessee\",\n",
    "             48:\"Texas\", 49:\"Utah\", 50:\"Vermont\", 51:\"Virginia\", 53:\"Washington\", 54:\"West Virginia\", 55:\"Wisconsin\",\n",
    "             56: \"Wyoming\", 72:\"Puerto Rico\"}"
   ]
  },
  {
   "cell_type": "code",
   "execution_count": 94,
   "metadata": {},
   "outputs": [
    {
     "name": "stdout",
     "output_type": "stream",
     "text": [
      "['Connecticut', 'Maine', 'Massachusetts', 'New Hampshire', 'New Jersey', 'New York', 'Rhode Island', 'Vermont']\n"
     ]
    }
   ],
   "source": [
    "# find all the states that are in the northeast region\n",
    "cur.execute(\"SELECT STFIPS from TEDSA where REGION = 1 ORDER BY STFIPS\")\n",
    "\n",
    "column_northeast_state_codes = cur.fetchall() # this produces a list of tuples of type (n,)\n",
    "\n",
    "for i in column_northeast_state_codes:\n",
    "    if i[0] not in list_northeast_state_codes: \n",
    "         list_northeast_state_codes.append(i[0])\n",
    "            \n",
    "Northeast_state_names = list()\n",
    "\n",
    "for code in list_northeast_state_codes:\n",
    "    Northeast_state_names.append(State_dict[code])\n",
    "    \n",
    "print(Northeast_state_names)"
   ]
  },
  {
   "cell_type": "code",
   "execution_count": 95,
   "metadata": {},
   "outputs": [
    {
     "name": "stdout",
     "output_type": "stream",
     "text": [
      "['Illinois', 'Indiana', 'Iowa', 'Michigan', 'Minnesota', 'Missouri', 'Nebraska', 'North Dakota', 'Ohio', 'South Dakota', 'Wisconsin']\n"
     ]
    }
   ],
   "source": [
    "# Repeat for other regions (2 = Midwest, 3 = South, 4 = West, 0 = US Jurisdiction/Territory)\n",
    "\n",
    "# Midwest\n",
    "cur.execute(\"SELECT STFIPS from TEDSA where REGION = 2 ORDER BY STFIPS\")\n",
    "\n",
    "column_midwest_state_codes = cur.fetchall() \n",
    "\n",
    "list_midwest_state_codes = list()\n",
    "\n",
    "for i in column_midwest_state_codes:\n",
    "    if i[0] not in list_midwest_state_codes: \n",
    "         list_midwest_state_codes.append(i[0])\n",
    "            \n",
    "Midwest_state_names = list()\n",
    "\n",
    "for code in list_midwest_state_codes:\n",
    "    Midwest_state_names.append(State_dict[code])\n",
    "    \n",
    "print(Midwest_state_names)"
   ]
  },
  {
   "cell_type": "code",
   "execution_count": 97,
   "metadata": {},
   "outputs": [
    {
     "name": "stdout",
     "output_type": "stream",
     "text": [
      "['Alabama', 'Arkensas', 'Delaware', 'District of Columbia', 'Florida', 'Kentucky', 'Louisiana', 'Maryland', 'Mississippi', 'North Carolina', 'Oklahoma', 'Tennessee', 'Texas', 'Virginia', 'West Virginia']\n"
     ]
    }
   ],
   "source": [
    "# South\n",
    "\n",
    "cur.execute(\"SELECT STFIPS from TEDSA where REGION = 3 ORDER BY STFIPS\")\n",
    "\n",
    "column_southern_state_codes = cur.fetchall() \n",
    "\n",
    "list_southern_state_codes = list()\n",
    "\n",
    "for i in column_southern_state_codes:\n",
    "    if i[0] not in list_southern_state_codes: \n",
    "         list_southern_state_codes.append(i[0])\n",
    "            \n",
    "Southern_state_names = list()\n",
    "\n",
    "for code in list_southern_state_codes:\n",
    "    Southern_state_names.append(State_dict[code])\n",
    "    \n",
    "print(Southern_state_names)"
   ]
  },
  {
   "cell_type": "code",
   "execution_count": 96,
   "metadata": {},
   "outputs": [
    {
     "name": "stdout",
     "output_type": "stream",
     "text": [
      "['Alaska', 'Arizona', 'California', 'Colorado', 'Hawaii', 'Idaho', 'Montana', 'Nevada', 'New Mexico', 'Utah', 'Washington', 'Wyoming']\n"
     ]
    }
   ],
   "source": [
    "# West\n",
    "\n",
    "cur.execute(\"SELECT STFIPS from TEDSA where REGION = 4 ORDER BY STFIPS\")\n",
    "\n",
    "column_western_state_codes = cur.fetchall() \n",
    "\n",
    "list_western_state_codes = list()\n",
    "\n",
    "for i in column_western_state_codes:\n",
    "    if i[0] not in list_western_state_codes: \n",
    "         list_western_state_codes.append(i[0])\n",
    "            \n",
    "Western_state_names = list()\n",
    "\n",
    "for code in list_western_state_codes:\n",
    "    Western_state_names.append(State_dict[code])\n",
    "    \n",
    "print(Western_state_names)"
   ]
  },
  {
   "cell_type": "code",
   "execution_count": 98,
   "metadata": {},
   "outputs": [
    {
     "name": "stdout",
     "output_type": "stream",
     "text": [
      "['Puerto Rico']\n"
     ]
    }
   ],
   "source": [
    "# US Jurisdiction/Territory\n",
    "\n",
    "cur.execute(\"SELECT STFIPS from TEDSA where REGION = 0 ORDER BY STFIPS\")\n",
    "\n",
    "column_other_codes = cur.fetchall() \n",
    "\n",
    "list_other_codes = list()\n",
    "\n",
    "for i in column_other_codes:\n",
    "    if i[0] not in list_other_codes: \n",
    "         list_other_codes.append(i[0])\n",
    "            \n",
    "Other_names = list()\n",
    "\n",
    "for code in list_other_codes:\n",
    "    Other_names.append(State_dict[code])\n",
    "    \n",
    "print(Other_names)"
   ]
  },
  {
   "cell_type": "code",
   "execution_count": 99,
   "metadata": {},
   "outputs": [
    {
     "data": {
      "text/plain": [
       "<sqlite3.Cursor at 0x130aeb730>"
      ]
     },
     "execution_count": 99,
     "metadata": {},
     "output_type": "execute_result"
    }
   ],
   "source": [
    " cur.execute(\"SELECT STFIPS,COUNT(CASEID) from TEDSA group by STFIPS\")"
   ]
  }
 ],
 "metadata": {
  "kernelspec": {
   "display_name": "Python 3",
   "language": "python",
   "name": "python3"
  },
  "language_info": {
   "codemirror_mode": {
    "name": "ipython",
    "version": 3
   },
   "file_extension": ".py",
   "mimetype": "text/x-python",
   "name": "python",
   "nbconvert_exporter": "python",
   "pygments_lexer": "ipython3",
   "version": "3.7.0"
  }
 },
 "nbformat": 4,
 "nbformat_minor": 2
}
